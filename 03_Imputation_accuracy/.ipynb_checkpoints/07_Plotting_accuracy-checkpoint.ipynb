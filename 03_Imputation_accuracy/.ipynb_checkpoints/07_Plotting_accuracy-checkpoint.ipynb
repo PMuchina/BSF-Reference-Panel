{
 "cells": [
  {
   "cell_type": "markdown",
   "id": "eddd40ae-e2ed-40c3-af33-a45cf0495532",
   "metadata": {},
   "source": [
    "# R2, NRC, and IQS"
   ]
  },
  {
   "cell_type": "code",
   "execution_count": null,
   "id": "e8ad6b65-738c-452e-b183-a492253c76cc",
   "metadata": {},
   "outputs": [],
   "source": [
    "import pandas as pd\n",
    "\n",
    "# Load the combined CSV file into a pandas DataFrame\n",
    "# Change csv e.g. R2, NRC, or IQS\n",
    "df = pd.read_csv('combined_R2_results.csv')\n",
    "\n",
    "# Show the first few rows of the dataframe to verify data\n",
    "print(df.head())"
   ]
  },
  {
   "cell_type": "code",
   "execution_count": null,
   "id": "f37a19cb-ff57-45fa-8ad9-a8a878faad2f",
   "metadata": {},
   "outputs": [],
   "source": [
    "import seaborn as sns\n",
    "import matplotlib.pyplot as plt\n",
    "\n",
    "# Set the figure size and style\n",
    "plt.figure(figsize=(10, 6))\n",
    "sns.set(style=\"whitegrid\")\n",
    "\n",
    "# Convert MAF to a categorical type to maintain order\n",
    "df['MAF'] = pd.Categorical(df['MAF'], categories=[\n",
    "    '0-0.05', '0.05-0.1', '0.1-0.15', '0.15-0.2',\n",
    "    '0.2-0.25', '0.25-0.3', '0.3-0.35', '0.35-0.4', \n",
    "    '0.4-0.45', '0.45-0.5'], ordered=True)\n",
    "\n",
    "# Plot R² values for different tools across MAF bins\n",
    "sns.lineplot(data=df, x='MAF', y='R2', hue='Tool', style='Coverage', markers=True, dashes=False)\n",
    "\n",
    "# Set the plot labels and title\n",
    "plt.title(\"R² - GLIMPSE2, QUILT v1.0.5 and STITCH v1.7.2\", fontsize=16)\n",
    "plt.xlabel(\"Minor Allele Frequency (MAF)\", fontsize=12)\n",
    "plt.ylabel(\"R²\", fontsize=12)\n",
    "\n",
    "# Rotate x-axis labels for better readability\n",
    "plt.xticks(rotation=45)\n",
    "\n",
    "# Show the plot\n",
    "plt.tight_layout()\n",
    "plt.savefig(\"R2_Distribution.png\", dpi=300)\n",
    "plt.show()"
   ]
  },
  {
   "cell_type": "code",
   "execution_count": null,
   "id": "d826bb89-1ed8-414c-8adb-540618eab5e6",
   "metadata": {},
   "outputs": [],
   "source": []
  }
 ],
 "metadata": {
  "kernelspec": {
   "display_name": "Python 3 (ipykernel)",
   "language": "python",
   "name": "python3"
  },
  "language_info": {
   "codemirror_mode": {
    "name": "ipython",
    "version": 3
   },
   "file_extension": ".py",
   "mimetype": "text/x-python",
   "name": "python",
   "nbconvert_exporter": "python",
   "pygments_lexer": "ipython3",
   "version": "3.12.1"
  }
 },
 "nbformat": 4,
 "nbformat_minor": 5
}
